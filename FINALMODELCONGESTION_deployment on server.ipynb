{
  "cells": [
    {
      "cell_type": "code",
      "execution_count": null,
      "metadata": {
        "colab": {
          "base_uri": "https://localhost:8080/"
        },
        "id": "_4wREfAhvfdt",
        "outputId": "24a7f033-3c46-45af-bf37-b0821f030fe3"
      },
      "outputs": [
        {
          "name": "stdout",
          "output_type": "stream",
          "text": [
            "Requirement already satisfied: flask in /usr/local/lib/python3.10/dist-packages (2.2.5)\n",
            "Collecting pyngrok\n",
            "  Downloading pyngrok-6.0.0.tar.gz (681 kB)\n",
            "\u001b[2K     \u001b[90m━━━━━━━━━━━━━━━━━━━━━━━━━━━━━━━━━━━━━━━\u001b[0m \u001b[32m681.2/681.2 kB\u001b[0m \u001b[31m7.2 MB/s\u001b[0m eta \u001b[36m0:00:00\u001b[0m\n",
            "\u001b[?25h  Preparing metadata (setup.py) ... \u001b[?25l\u001b[?25hdone\n",
            "Requirement already satisfied: pandas in /usr/local/lib/python3.10/dist-packages (1.5.3)\n",
            "Requirement already satisfied: folium in /usr/local/lib/python3.10/dist-packages (0.14.0)\n",
            "Requirement already satisfied: Werkzeug>=2.2.2 in /usr/local/lib/python3.10/dist-packages (from flask) (2.3.6)\n",
            "Requirement already satisfied: Jinja2>=3.0 in /usr/local/lib/python3.10/dist-packages (from flask) (3.1.2)\n",
            "Requirement already satisfied: itsdangerous>=2.0 in /usr/local/lib/python3.10/dist-packages (from flask) (2.1.2)\n",
            "Requirement already satisfied: click>=8.0 in /usr/local/lib/python3.10/dist-packages (from flask) (8.1.6)\n",
            "Requirement already satisfied: PyYAML in /usr/local/lib/python3.10/dist-packages (from pyngrok) (6.0.1)\n",
            "Requirement already satisfied: python-dateutil>=2.8.1 in /usr/local/lib/python3.10/dist-packages (from pandas) (2.8.2)\n",
            "Requirement already satisfied: pytz>=2020.1 in /usr/local/lib/python3.10/dist-packages (from pandas) (2022.7.1)\n",
            "Requirement already satisfied: numpy>=1.21.0 in /usr/local/lib/python3.10/dist-packages (from pandas) (1.22.4)\n",
            "Requirement already satisfied: branca>=0.6.0 in /usr/local/lib/python3.10/dist-packages (from folium) (0.6.0)\n",
            "Requirement already satisfied: requests in /usr/local/lib/python3.10/dist-packages (from folium) (2.27.1)\n",
            "Requirement already satisfied: MarkupSafe>=2.0 in /usr/local/lib/python3.10/dist-packages (from Jinja2>=3.0->flask) (2.1.3)\n",
            "Requirement already satisfied: six>=1.5 in /usr/local/lib/python3.10/dist-packages (from python-dateutil>=2.8.1->pandas) (1.16.0)\n",
            "Requirement already satisfied: urllib3<1.27,>=1.21.1 in /usr/local/lib/python3.10/dist-packages (from requests->folium) (1.26.16)\n",
            "Requirement already satisfied: certifi>=2017.4.17 in /usr/local/lib/python3.10/dist-packages (from requests->folium) (2023.7.22)\n",
            "Requirement already satisfied: charset-normalizer~=2.0.0 in /usr/local/lib/python3.10/dist-packages (from requests->folium) (2.0.12)\n",
            "Requirement already satisfied: idna<4,>=2.5 in /usr/local/lib/python3.10/dist-packages (from requests->folium) (3.4)\n",
            "Building wheels for collected packages: pyngrok\n",
            "  Building wheel for pyngrok (setup.py) ... \u001b[?25l\u001b[?25hdone\n",
            "  Created wheel for pyngrok: filename=pyngrok-6.0.0-py3-none-any.whl size=19866 sha256=4304758c9337a209373e200b4ae9be2f306bdbf896e4d5b0b6e50ebca312181b\n",
            "  Stored in directory: /root/.cache/pip/wheels/5c/42/78/0c3d438d7f5730451a25f7ac6cbf4391759d22a67576ed7c2c\n",
            "Successfully built pyngrok\n",
            "Installing collected packages: pyngrok\n",
            "Successfully installed pyngrok-6.0.0\n"
          ]
        }
      ],
      "source": [
        "!pip install flask pyngrok pandas folium\n"
      ]
    },
    {
      "cell_type": "code",
      "execution_count": null,
      "metadata": {
        "colab": {
          "background_save": true,
          "base_uri": "https://localhost:8080/"
        },
        "id": "s5v54BOcwL1t",
        "outputId": "ba2653ce-4047-4710-bd2b-309f373da8d3"
      },
      "outputs": [
        {
          "name": "stdout",
          "output_type": "stream",
          "text": [
            "deb https://ngrok-agent.s3.amazonaws.com buster main\n",
            "Hit:1 https://developer.download.nvidia.com/compute/cuda/repos/ubuntu2204/x86_64  InRelease\n",
            "Get:2 https://cloud.r-project.org/bin/linux/ubuntu jammy-cran40/ InRelease [3,626 B]\n",
            "Get:3 https://ngrok-agent.s3.amazonaws.com buster InRelease [20.3 kB]\n",
            "Hit:4 http://archive.ubuntu.com/ubuntu jammy InRelease\n",
            "Get:5 http://security.ubuntu.com/ubuntu jammy-security InRelease [110 kB]\n",
            "Get:6 http://archive.ubuntu.com/ubuntu jammy-updates InRelease [119 kB]\n",
            "Get:7 https://ngrok-agent.s3.amazonaws.com buster/main amd64 Packages [3,568 B]\n",
            "Hit:8 http://archive.ubuntu.com/ubuntu jammy-backports InRelease\n",
            "Get:9 http://archive.ubuntu.com/ubuntu jammy-updates/universe amd64 Packages [1,333 kB]\n",
            "Get:10 https://ppa.launchpadcontent.net/c2d4u.team/c2d4u4.0+/ubuntu jammy InRelease [18.1 kB]\n",
            "Get:11 http://security.ubuntu.com/ubuntu jammy-security/main amd64 Packages [1,398 kB]\n",
            "Get:12 http://archive.ubuntu.com/ubuntu jammy-updates/main amd64 Packages [1,678 kB]\n",
            "Hit:13 https://ppa.launchpadcontent.net/deadsnakes/ppa/ubuntu jammy InRelease\n",
            "Hit:14 https://ppa.launchpadcontent.net/graphics-drivers/ppa/ubuntu jammy InRelease\n",
            "Hit:15 https://ppa.launchpadcontent.net/ubuntugis/ppa/ubuntu jammy InRelease\n",
            "Get:16 https://ppa.launchpadcontent.net/c2d4u.team/c2d4u4.0+/ubuntu jammy/main Sources [2,264 kB]\n",
            "Get:17 http://security.ubuntu.com/ubuntu jammy-security/universe amd64 Packages [1,063 kB]\n",
            "Get:18 https://ppa.launchpadcontent.net/c2d4u.team/c2d4u4.0+/ubuntu jammy/main amd64 Packages [1,162 kB]\n",
            "Fetched 9,172 kB in 3s (3,509 kB/s)\n",
            "Reading package lists... Done\n",
            "Building dependency tree... Done\n",
            "Reading state information... Done\n",
            "37 packages can be upgraded. Run 'apt list --upgradable' to see them.\n",
            "Reading package lists... Done\n",
            "Building dependency tree... Done\n",
            "Reading state information... Done\n",
            "The following NEW packages will be installed:\n",
            "  ngrok\n",
            "0 upgraded, 1 newly installed, 0 to remove and 37 not upgraded.\n",
            "Need to get 6,542 kB of archives.\n",
            "After this operation, 0 B of additional disk space will be used.\n",
            "Get:1 https://ngrok-agent.s3.amazonaws.com buster/main amd64 ngrok amd64 3.5.0 [6,542 kB]\n",
            "Fetched 6,542 kB in 1s (11.0 MB/s)\n",
            "debconf: unable to initialize frontend: Dialog\n",
            "debconf: (No usable dialog-like program is installed, so the dialog based frontend cannot be used. at /usr/share/perl5/Debconf/FrontEnd/Dialog.pm line 78, <> line 1.)\n",
            "debconf: falling back to frontend: Readline\n",
            "debconf: unable to initialize frontend: Readline\n",
            "debconf: (This frontend requires a controlling tty.)\n",
            "debconf: falling back to frontend: Teletype\n",
            "dpkg-preconfigure: unable to re-open stdin: \n",
            "Selecting previously unselected package ngrok.\n",
            "(Reading database ... 121730 files and directories currently installed.)\n",
            "Preparing to unpack .../archives/ngrok_3.5.0_amd64.deb ...\n",
            "Unpacking ngrok (3.5.0) ...\n",
            "Setting up ngrok (3.5.0) ...\n"
          ]
        }
      ],
      "source": [
        "!curl -s https://ngrok-agent.s3.amazonaws.com/ngrok.asc | sudo tee /etc/apt/trusted.gpg.d/ngrok.asc >/dev/null && echo \"deb https://ngrok-agent.s3.amazonaws.com buster main\" | sudo tee /etc/apt/sources.list.d/ngrok.list && sudo apt update && sudo apt install ngrok"
      ]
    },
    {
      "cell_type": "code",
      "execution_count": null,
      "metadata": {
        "colab": {
          "background_save": true,
          "base_uri": "https://localhost:8080/"
        },
        "id": "wN5R8vXuwtF2",
        "outputId": "96cfa393-f2f5-4aad-ea0f-290012908a4c"
      },
      "outputs": [
        {
          "name": "stdout",
          "output_type": "stream",
          "text": [
            "Authtoken saved to configuration file: /root/.config/ngrok/ngrok.yml\n"
          ]
        }
      ],
      "source": [
        "!ngrok authtoken \"2T8yAOjN4tt3GhpNVoBSb1Pnv5G_2ZDYHarumrMgH8FesLg59\""
      ]
    },
    {
      "cell_type": "code",
      "execution_count": null,
      "metadata": {
        "colab": {
          "base_uri": "https://localhost:8080/"
        },
        "id": "ZDSbHdZEz7_K",
        "outputId": "0b876674-6038-4a78-fe19-c64759a3b452"
      },
      "outputs": [
        {
          "name": "stdout",
          "output_type": "stream",
          "text": [
            "Archive:  templates.zip\n",
            "  inflating: templates/index.html    \n"
          ]
        }
      ],
      "source": [
        "!unzip templates.zip"
      ]
    },
    {
      "cell_type": "code",
      "execution_count": null,
      "metadata": {
        "colab": {
          "base_uri": "https://localhost:8080/"
        },
        "id": "cCdJ8mN_0Q_C",
        "outputId": "d5b9164d-1e33-4c28-85af-ae55f6fed07f"
      },
      "outputs": [
        {
          "name": "stderr",
          "output_type": "stream",
          "text": [
            "WARNING:pyngrok.process.ngrok:t=2023-07-31T05:50:32+0000 lvl=warn msg=\"ngrok config file found at both XDG and legacy locations, using XDG location\" xdg_path=/root/.config/ngrok/ngrok.yml legacy_path=/root/.ngrok2/ngrok.yml\n"
          ]
        },
        {
          "name": "stdout",
          "output_type": "stream",
          "text": [
            "Public URL: NgrokTunnel: \"https://4e8c-34-125-153-77.ngrok-free.app\" -> \"http://localhost:5000\"\n",
            " * Serving Flask app '__main__'\n",
            " * Debug mode: off\n"
          ]
        },
        {
          "name": "stderr",
          "output_type": "stream",
          "text": [
            "INFO:werkzeug:\u001b[31m\u001b[1mWARNING: This is a development server. Do not use it in a production deployment. Use a production WSGI server instead.\u001b[0m\n",
            " * Running on http://127.0.0.1:5000\n",
            "INFO:werkzeug:\u001b[33mPress CTRL+C to quit\u001b[0m\n",
            "INFO:werkzeug:127.0.0.1 - - [31/Jul/2023 05:50:39] \"GET / HTTP/1.1\" 200 -\n",
            "INFO:werkzeug:127.0.0.1 - - [31/Jul/2023 05:50:39] \"\u001b[35m\u001b[1mGET /static/background.mp4 HTTP/1.1\u001b[0m\" 206 -\n",
            "INFO:werkzeug:127.0.0.1 - - [31/Jul/2023 05:50:40] \"\u001b[35m\u001b[1mGET /static/background.mp4 HTTP/1.1\u001b[0m\" 206 -\n",
            "INFO:werkzeug:127.0.0.1 - - [31/Jul/2023 05:50:41] \"\u001b[35m\u001b[1mGET /static/background.mp4 HTTP/1.1\u001b[0m\" 206 -\n",
            "INFO:werkzeug:127.0.0.1 - - [31/Jul/2023 05:50:41] \"\u001b[35m\u001b[1mGET /static/background.mp4 HTTP/1.1\u001b[0m\" 206 -\n",
            "INFO:werkzeug:127.0.0.1 - - [31/Jul/2023 05:50:45] \"\u001b[33mGET /favicon.ico HTTP/1.1\u001b[0m\" 404 -\n",
            "INFO:werkzeug:127.0.0.1 - - [31/Jul/2023 05:50:49] \"\u001b[31m\u001b[1mPOST / HTTP/1.1\u001b[0m\" 405 -\n",
            "INFO:werkzeug:127.0.0.1 - - [31/Jul/2023 05:51:03] \"GET / HTTP/1.1\" 200 -\n",
            "INFO:werkzeug:127.0.0.1 - - [31/Jul/2023 05:51:03] \"\u001b[35m\u001b[1mGET /static/background.mp4 HTTP/1.1\u001b[0m\" 206 -\n",
            "INFO:werkzeug:127.0.0.1 - - [31/Jul/2023 05:51:04] \"\u001b[35m\u001b[1mGET /static/background.mp4 HTTP/1.1\u001b[0m\" 206 -\n",
            "INFO:werkzeug:127.0.0.1 - - [31/Jul/2023 05:51:05] \"\u001b[35m\u001b[1mGET /static/background.mp4 HTTP/1.1\u001b[0m\" 206 -\n",
            "INFO:werkzeug:127.0.0.1 - - [31/Jul/2023 05:51:05] \"\u001b[35m\u001b[1mGET /static/background.mp4 HTTP/1.1\u001b[0m\" 206 -\n"
          ]
        }
      ],
      "source": [
        "from flask import Flask, render_template, request\n",
        "import pandas as pd\n",
        "import folium\n",
        "from folium.plugins import MarkerCluster\n",
        "from pyngrok import ngrok\n",
        "\n",
        "# Create a Flask app\n",
        "app = Flask(__name__)\n",
        "\n",
        "# Code 1: Data Loading and Preprocessing\n",
        "# Load the Excel file into dataframes\n",
        "excel_file_path = '/content/finaloutput.xlsx'  # Replace with the actual path to your Excel file\n",
        "sheet_name1 = 'Sheet1'  # Replace with the name of the first sheet\n",
        "sheet_name2 = 'Sheet2'  # Replace with the name of the second sheet\n",
        "\n",
        "df1 = pd.read_excel(excel_file_path, sheet_name=sheet_name1)\n",
        "df2 = pd.read_excel(excel_file_path, sheet_name=sheet_name2)\n",
        "\n",
        "# Stack the dataframes vertically\n",
        "finaloutputdata = pd.concat([df1, df2], ignore_index=True)\n",
        "\n",
        "# Code 2: Filtering Data Based on Time Interval\n",
        "def filter_data(start_time_str, end_time_str):\n",
        "    data = finaloutputdata\n",
        "    df = pd.DataFrame(data)\n",
        "    df['arrival_time'] = pd.to_datetime(df['arrival_time'])\n",
        "\n",
        "    # Convert start and end times to pandas Timestamp objects\n",
        "    start_time = pd.to_datetime(start_time_str, format='%H:%M').time()\n",
        "    end_time = pd.to_datetime(end_time_str, format='%H:%M').time()\n",
        "\n",
        "    # Filter the DataFrame based on the time interval\n",
        "    mask = ((df['arrival_time'].dt.time >= start_time) & (df['arrival_time'].dt.time <= end_time)) | \\\n",
        "           (df['arrival_time'].dt.time == end_time) | \\\n",
        "           (df['arrival_time'].dt.time == start_time)\n",
        "\n",
        "    filtered_df = df[mask]\n",
        "    return filtered_df\n",
        "\n",
        "# Code 3: Creating a Congestion Map\n",
        "def create_congestion_map(filtered_df):\n",
        "    stoppage = filtered_df['Stoppage_Id'].value_counts()\n",
        "    stopcongestion = pd.DataFrame({'Stoppage_Id': stoppage.index, 'Count': stoppage.values})\n",
        "\n",
        "    stopdata = pd.read_excel('/content/AVL_Stop.xlsx')\n",
        "    # Creating the map of Delhi by taking the mean latitude and longitude\n",
        "    m = folium.Map(location=[stopdata['Stop_Latitute'].mean(), stopdata['Stop_Longitude'].mean()], zoom_start=20)\n",
        "\n",
        "    marker_cluster = MarkerCluster().add_to(m)\n",
        "\n",
        "    congestion_colors = {\n",
        "        1: 'green',  # Low congestion\n",
        "        2: 'yellow',  # Medium congestion\n",
        "        3: 'orange',  # High congestion\n",
        "        4: 'red'  # Very high congestion\n",
        "    }\n",
        "\n",
        "    for idx, row in stopcongestion.iterrows():\n",
        "        stop_id = row['Stoppage_Id']\n",
        "        count = row['Count']\n",
        "\n",
        "        stop_row = stopdata[stopdata['Stoppage_Id'] == stop_id].iloc[0]\n",
        "        lat = stop_row['Stop_Latitute']\n",
        "        lon = stop_row['Stop_Longitude']\n",
        "\n",
        "        # Default to low congestion\n",
        "        if count >= 50:\n",
        "            congestion_level = 4  # Very high congestion\n",
        "        elif count >= 30:\n",
        "            congestion_level = 3  # High congestion\n",
        "        elif count >= 10:\n",
        "            congestion_level = 2  # Medium congestion\n",
        "        else:\n",
        "            congestion_level = 1  # Low congestion\n",
        "\n",
        "        # Creating a marker with colored icon and pop-up tooltip\n",
        "        marker = folium.Marker(\n",
        "            location=[lat, lon],\n",
        "            icon=folium.Icon(color=congestion_colors[congestion_level], icon='bus', prefix='fa'),\n",
        "            tooltip=f'Stop ID: {stop_id}<br> Congestion Count: {count}',\n",
        "        )\n",
        "\n",
        "        # Adjusting the size and opacity of the marker based on the congestion count\n",
        "        marker.radius = count * 2\n",
        "        marker.opacity = min(0.5 + count / 20, 1.0)\n",
        "\n",
        "        marker.add_to(marker_cluster)\n",
        "\n",
        "    return m\n",
        "\n",
        "# Flask route to render the home page with the form\n",
        "@app.route('/')\n",
        "def home():\n",
        "    return render_template('index.html')\n",
        "\n",
        "# Flask route to handle the form submission\n",
        "@app.route('/congestion', methods=['POST'])\n",
        "def congestion_map():\n",
        "    # Get the start and end times from the form\n",
        "    start_time_str = request.form.get('start_time')\n",
        "    end_time_str = request.form.get('end_time')\n",
        "\n",
        "    filtered_df = filter_data(start_time_str, end_time_str)\n",
        "    m = create_congestion_map(filtered_df)\n",
        "\n",
        "    return m._repr_html_()\n",
        "\n",
        "# Keep the app running until you stop the execution\n",
        "if __name__ == \"__main__\":\n",
        "    # Start ngrok and create a tunnel\n",
        "    ngrok.set_auth_token(\"2T8yAOjN4tt3GhpNVoBSb1Pnv5G_2ZDYHarumrMgH8FesLg59\")  # Replace \"your_auth_token\" with your ngrok auth token\n",
        "    public_url = ngrok.connect(addr=\"5000\", proto=\"http\")\n",
        "    print(\"Public URL:\", public_url)\n",
        "\n",
        "    try:\n",
        "        app.run(port=5000)\n",
        "    except KeyboardInterrupt:\n",
        "        pass\n"
      ]
    },
    {
      "cell_type": "code",
      "execution_count": null,
      "metadata": {
        "colab": {
          "base_uri": "https://localhost:8080/"
        },
        "id": "j0s3hf0bWG5r",
        "outputId": "8cf2bddb-26e8-427c-dbf8-9b73427765ca"
      },
      "outputs": [
        {
          "name": "stdout",
          "output_type": "stream",
          "text": [
            "Archive:  d.zip\n",
            "  inflating: d/New Text Document.txt  \n"
          ]
        }
      ],
      "source": [
        "!unzip d.zip"
      ]
    },
    {
      "cell_type": "code",
      "execution_count": null,
      "metadata": {
        "colab": {
          "base_uri": "https://localhost:8080/"
        },
        "id": "62Hjh4lAY0OT",
        "outputId": "49b72422-782d-4f42-c4cc-46bd6953c1c6"
      },
      "outputs": [
        {
          "name": "stdout",
          "output_type": "stream",
          "text": [
            "Archive:  static.zip\n",
            "  inflating: static/vadim-sherbakov-NQSWvyVRIJk-unsplash.jpg  \n"
          ]
        }
      ],
      "source": [
        "!unzip static.zip"
      ]
    },
    {
      "cell_type": "code",
      "execution_count": null,
      "metadata": {
        "colab": {
          "base_uri": "https://localhost:8080/"
        },
        "id": "tLKeyFeDYj98",
        "outputId": "33ad160a-d53e-4f92-b16f-6515a1afabdc"
      },
      "outputs": [
        {
          "name": "stderr",
          "output_type": "stream",
          "text": [
            "WARNING:pyngrok.process.ngrok:t=2023-07-31T05:26:43+0000 lvl=warn msg=\"ngrok config file found at both XDG and legacy locations, using XDG location\" xdg_path=/root/.config/ngrok/ngrok.yml legacy_path=/root/.ngrok2/ngrok.yml\n"
          ]
        },
        {
          "name": "stdout",
          "output_type": "stream",
          "text": [
            "Public URL: NgrokTunnel: \"https://8834-34-125-153-77.ngrok-free.app\" -> \"http://localhost:5000\"\n",
            " * Serving Flask app '__main__'\n",
            " * Debug mode: off\n"
          ]
        },
        {
          "name": "stderr",
          "output_type": "stream",
          "text": [
            "INFO:werkzeug:\u001b[31m\u001b[1mWARNING: This is a development server. Do not use it in a production deployment. Use a production WSGI server instead.\u001b[0m\n",
            " * Running on http://127.0.0.1:5000\n",
            "INFO:werkzeug:\u001b[33mPress CTRL+C to quit\u001b[0m\n",
            "INFO:werkzeug:127.0.0.1 - - [31/Jul/2023 05:27:03] \"GET / HTTP/1.1\" 200 -\n",
            "INFO:werkzeug:127.0.0.1 - - [31/Jul/2023 05:27:04] \"\u001b[35m\u001b[1mGET /static/background.mp4 HTTP/1.1\u001b[0m\" 206 -\n",
            "INFO:werkzeug:127.0.0.1 - - [31/Jul/2023 05:27:04] \"\u001b[35m\u001b[1mGET /static/background.mp4 HTTP/1.1\u001b[0m\" 206 -\n",
            "INFO:werkzeug:127.0.0.1 - - [31/Jul/2023 05:27:05] \"\u001b[35m\u001b[1mGET /static/background.mp4 HTTP/1.1\u001b[0m\" 206 -\n",
            "INFO:werkzeug:127.0.0.1 - - [31/Jul/2023 05:27:06] \"\u001b[35m\u001b[1mGET /static/background.mp4 HTTP/1.1\u001b[0m\" 206 -\n",
            "INFO:werkzeug:127.0.0.1 - - [31/Jul/2023 05:27:09] \"\u001b[33mGET /favicon.ico HTTP/1.1\u001b[0m\" 404 -\n",
            "INFO:werkzeug:127.0.0.1 - - [31/Jul/2023 05:27:29] \"POST / HTTP/1.1\" 200 -\n"
          ]
        }
      ],
      "source": []
    },
    {
      "cell_type": "code",
      "execution_count": null,
      "metadata": {
        "colab": {
          "base_uri": "https://localhost:8080/"
        },
        "id": "BwtvErUCecID",
        "outputId": "d4934310-1713-4021-bcdc-36928366272c"
      },
      "outputs": [
        {
          "name": "stdout",
          "output_type": "stream",
          "text": [
            "Archive:  k.zip\n",
            "  inflating: k/New Text Document.txt  \n"
          ]
        }
      ],
      "source": [
        "!unzip k.zip"
      ]
    }
  ],
  "metadata": {
    "accelerator": "GPU",
    "colab": {
      "provenance": []
    },
    "kernelspec": {
      "display_name": "Python 3",
      "name": "python3"
    },
    "language_info": {
      "name": "python"
    }
  },
  "nbformat": 4,
  "nbformat_minor": 0
}